{
 "cells": [
  {
   "cell_type": "markdown",
   "metadata": {
    "colab_type": "text",
    "id": "view-in-github"
   },
   "source": [
    "<a href=\"https://colab.research.google.com/github/aditya-malte/Simple-LP1-Codes/blob/master/OpenMP_Breadth_First_Search.ipynb\" target=\"_parent\"><img src=\"https://colab.research.google.com/assets/colab-badge.svg\" alt=\"Open In Colab\"/></a>"
   ]
  },
  {
   "cell_type": "code",
   "execution_count": 12,
   "metadata": {
    "colab": {},
    "colab_type": "code",
    "id": "F7jEgl1h34eb"
   },
   "outputs": [],
   "source": [
    "code = \"\"\"\n",
    "#include<stdio.h>\n",
    "#include \"omp.h\"\n",
    "int q[1000];\n",
    "int visited[7];\n",
    "int local_q;\n",
    "\n",
    "void bfs(int adj_matrix[7][7], int first, int last, int q[], int n_nodes)\n",
    "{\n",
    "\t\tif(first==last)\n",
    "\t\t\treturn;\n",
    "\n",
    "\t\t//pop first element\n",
    "\t\tint cur_node = q[first++];\n",
    "\t\t\n",
    "\t\tprintf(\"%d, \", cur_node);\n",
    "\t\tomp_set_num_threads(3);\n",
    "\t\t#pragma omp parallel for shared(visited)\n",
    "\t\tfor(int i=0; i<n_nodes; i++)\n",
    "\t\t{\n",
    "\t\t\tif(adj_matrix[cur_node][i]==1 && visited[i]==0)\n",
    "\t\t\t{\n",
    "\t\t\t\tq[last++] = i;\n",
    "\t\t\t\tvisited[i]=1;\n",
    "\t\t\t}\n",
    "\t\t}\n",
    "\tbfs(adj_matrix, first, last, q, n_nodes);\n",
    "}\n",
    "\n",
    "int main()\n",
    "{\n",
    "\tint first = -1;\t//index of first element\n",
    "\tint last = 0;\t//index of next insertion\n",
    "\tint n_nodes = 7;\n",
    "\tfor(int i=0; i<n_nodes; i++)\n",
    "\t{\n",
    "\t\tvisited[i] = 0;\n",
    "\t}\n",
    "\t//shows graph connections\n",
    "\tint adj_matrix[7][7] = {\n",
    "\t\t\t\t\t\t\t\t\t\t\t\t\t{0,  1  ,1  ,0  ,0  ,0  ,0},\n",
    "\t\t\t\t\t\t\t\t\t\t\t\t\t{1\t,0\t,1\t,1\t,0\t,0\t,0},\n",
    "\t\t\t\t\t\t\t\t\t\t\t\t\t{1\t,1\t,0\t,0\t,1\t,0\t,0},\n",
    "\t\t\t\t\t\t\t\t\t\t\t\t\t{0\t,1\t,0\t,0\t,1\t,0\t,0},\n",
    "\t\t\t\t\t\t\t\t\t\t\t\t\t{0\t,0\t,1\t,1\t,0\t,1\t,0},\n",
    "\t\t\t\t\t\t\t\t\t\t\t\t\t{0\t,0\t,0\t,0\t,1\t,0\t,1},\n",
    "\t\t\t\t\t\t\t\t\t\t\t\t\t{0\t,0\t,0\t,0\t,0\t,1\t,0}\n",
    "\t\t\t\t\t\t\t\t\t\t\t\t\t};\n",
    "\n",
    "\tint start_node = 3;\t//set start node as 1\n",
    "\tq[last++] = start_node;\n",
    "\tfirst++;\n",
    "\tvisited[start_node] = 1;\n",
    "\t\n",
    "\tint cur_node;\n",
    "\tbfs(adj_matrix, first, last, q, n_nodes);\n",
    "\t/*\n",
    "\twhile(first != last)\n",
    "\t{\n",
    "\t\t//pop first element\n",
    "\t\tcur_node = q[first++];\n",
    "\t\t\n",
    "\t\tprintf(\"%d, \", cur_node);\n",
    "\t\tfor(int i=0; i<n_nodes; i++)\n",
    "\t\t{\n",
    "\t\t\tif(adj_matrix[cur_node][i]==1 && visited[i]==0)\n",
    "\t\t\t{\n",
    "\t\t\t\tq[last++] = i;\n",
    "\t\t\t\tvisited[i]=1;\n",
    "\t\t\t}\n",
    "\t\t}\n",
    "\n",
    "\t}\t\n",
    "\t*/\n",
    "\treturn 0;\n",
    "}\n",
    "\"\"\""
   ]
  },
  {
   "cell_type": "code",
   "execution_count": 13,
   "metadata": {
    "colab": {},
    "colab_type": "code",
    "id": "9IyLislm4zYZ"
   },
   "outputs": [],
   "source": [
    "text_file = open(\"code.c\", \"w\")\n",
    "text_file.write(code)\n",
    "text_file.close()"
   ]
  },
  {
   "cell_type": "code",
   "execution_count": 14,
   "metadata": {
    "colab": {},
    "colab_type": "code",
    "id": "QOqdGUI8vx9I"
   },
   "outputs": [],
   "source": [
    "!gcc -fopenmp code.c"
   ]
  },
  {
   "cell_type": "code",
   "execution_count": 15,
   "metadata": {
    "colab": {
     "base_uri": "https://localhost:8080/",
     "height": 85
    },
    "colab_type": "code",
    "id": "rxhbBdV68Jvx",
    "outputId": "04e97b8d-224a-4262-c040-d90481c4b258"
   },
   "outputs": [
    {
     "name": "stdout",
     "output_type": "stream",
     "text": [
      "3, 1, 4, 0, 2, 5, 6, "
     ]
    }
   ],
   "source": [
    "!./a.out"
   ]
  },
  {
   "cell_type": "code",
   "execution_count": 5,
   "metadata": {
    "colab": {},
    "colab_type": "code",
    "id": "qSFjsSEG4tDH"
   },
   "outputs": [],
   "source": [
    "#!mpicc code.c"
   ]
  },
  {
   "cell_type": "code",
   "execution_count": 6,
   "metadata": {
    "colab": {},
    "colab_type": "code",
    "id": "7L6NClHt5Iu7"
   },
   "outputs": [],
   "source": [
    "#!mpirun --allow-run-as-root -np 4 ./a.out "
   ]
  },
  {
   "cell_type": "code",
   "execution_count": null,
   "metadata": {},
   "outputs": [],
   "source": []
  }
 ],
 "metadata": {
  "accelerator": "GPU",
  "colab": {
   "collapsed_sections": [],
   "include_colab_link": true,
   "name": "OpenMP_Breadth_First_Search.ipynb",
   "provenance": []
  },
  "kernelspec": {
   "display_name": "Python 3",
   "language": "python",
   "name": "python3"
  },
  "language_info": {
   "codemirror_mode": {
    "name": "ipython",
    "version": 3
   },
   "file_extension": ".py",
   "mimetype": "text/x-python",
   "name": "python",
   "nbconvert_exporter": "python",
   "pygments_lexer": "ipython3",
   "version": "3.6.6"
  }
 },
 "nbformat": 4,
 "nbformat_minor": 1
}
